{
 "cells": [
  {
   "cell_type": "code",
   "execution_count": 1,
   "id": "52840422",
   "metadata": {},
   "outputs": [],
   "source": [
    "import logging\n",
    "import requests\n",
    "import urllib.parse\n",
    "import pickle\n",
    "import json\n",
    "import sys\n",
    "import pandas as pd\n",
    "import numpy as np\n",
    "\n",
    "from post_processing import Return_JSON"
   ]
  },
  {
   "cell_type": "code",
   "execution_count": 2,
   "id": "570c1ddb",
   "metadata": {},
   "outputs": [],
   "source": [
    "def LoadingPickle():\n",
    "    vectorizer = pickle.load(open(\"model_pickles/vect_tfidf.pickle\",'rb'))\n",
    "    model = pickle.load(open(\"model_pickles/SVC_tf_idf.pickle\",'rb'))\n",
    "    return vectorizer, model"
   ]
  },
  {
   "cell_type": "code",
   "execution_count": 3,
   "id": "64e56318",
   "metadata": {},
   "outputs": [],
   "source": [
    "def LabelPredict(title):\n",
    "    vectorizer, model = LoadingPickle()\n",
    "    try:\n",
    "        pred = model.predict(vectorizer.transform([title]))[0]\n",
    "        return pred\n",
    "    except:\n",
    "        pass\n"
   ]
  },
  {
   "cell_type": "code",
   "execution_count": 4,
   "id": "d3dfb1c8",
   "metadata": {},
   "outputs": [],
   "source": [
    "# LabelPredict('http://www.arg.dundee.ac.uk/aif#i-nodeg')"
   ]
  },
  {
   "cell_type": "markdown",
   "id": "0942d334",
   "metadata": {},
   "source": [
    "## ABSTAT - knowledge graphs"
   ]
  },
  {
   "cell_type": "code",
   "execution_count": 5,
   "id": "493f91b3",
   "metadata": {},
   "outputs": [],
   "source": [
    "drugbank = 'asd4drg5s-asg31-as85v-lmn2n-c4342se1'\n",
    "dblp = 'as34sdrg54-er3o-tr34p-adfp-d4352fde'\n",
    "dmoz_categories = '084b08d1-e5e4-442f-9261-b7c2d9c52e05'\n",
    "geotargets = '365cb854-6c76-4c63-b996-748ff3fc1988'\n",
    "dbpedia_2016_10_infobox = '107dbfc4-0898-40fa-8e48-ab78992b0533'\n",
    "dbpedia_2015_10 = '2565587d-6b61-42e3-968e-765204c46254'\n",
    "dbpedia_2016_10 = '984d4b93-be2a-413a-bdfb-b6afde27a39b'\n",
    "linkedgeodata = 'c54c7b48-d55f-4890-9a60-0e63cabfcd39'\n",
    "copyrighttermbank = 'f9c85d5a-af33-4ced-8c3c-5dd49c953ae4'\n",
    "asit_data = 'b906ba94-e794-4af0-8acd-07e2970f3f68'\n",
    "cedict = '83dbeeb6-0dbc-4faa-bbe7-a14b804422fc'\n",
    "basque_eurowordnet_lemon_lexicon_3_0 = 'e86cf524-86d9-4ee6-8341-4d01cb8c74db'\n",
    "catalan_eurowordnet_lemon_lexicon_3_0 = 'ebe442fb-f97b-4ab3-aa74-b297bd60fa3e'\n",
    "dbpedia_spotlight_nif_ner_corpus = '3befa92c-02fd-4bfc-acb4-fd9f750afd79'\n",
    "galician_eurowordnet_lemon_lexicon_3_0 = '950e4d2d-6138-4ee0-a510-80a8130ec172'\n",
    "germlex = '7ec583e3-8436-4e1f-ad75-8bd8c5daa7d6'\n",
    "kore_50_nif_ner_corpus = 'cca28af7-5fb7-4a86-be7c-a6afdbb2d271'\n",
    "lemonwiktionary = 'ff44f384-6112-4b0a-9cc3-882514d079ca'\n",
    "lexvo = '3d4d75e7-1c66-4b61-a9ae-2d7ab32a6983'\n",
    "news_100_nif_ner_corpus = '2fadf3dc-085e-4f00-a4b3-b661299c62b9'\n",
    "reuters_128_nif_ner_corpus = '72c0b89d-2774-4119-8421-d7d98af97f7e'\n",
    "rss_500_nif_ner_corpus = 'ac7ea0a8-0f82-437d-8d09-bfbeeb9f4b1c'\n",
    "saldo_rdf = '7568383e-53d3-4436-ae19-ba52ec1a1d3a'\n",
    "saldom_rdf = 'b5941cff-1dbc-48d5-83d4-632eb11629dd'\n",
    "srcmf = '527ee9f0-b58e-46f8-8ee1-329327f9641c'\n",
    "asit = 'd9149a55-a7bb-45c5-99fb-db1ca55e6795'\n",
    "lemonuby = '401803b4-8d7a-42c1-a1ba-87ee32f807b2'\n",
    "ysa = '565c4554-d806-4b7d-9375-6f450a175595'\n",
    "apertium_rdf_ca_it = 'b426dab6-1cdb-4151-b11a-72ed588e0d29'\n",
    "apertium_rdf_en_ca = '73b822fc-aac7-4d2a-81e8-765168ab6580'\n",
    "apertium_rdf_en_es = '444e31b0-ac29-449c-b35f-403b7840cba6'\n",
    "apertium_rdf_en_gl = 'e4e80c69-922c-477c-bc23-fc1b98c3d5d3'\n",
    "apertium_rdf_eo_ca = 'd188b12e-cf98-461a-a245-f79bd184be65'\n",
    "apertium_rdf_eo_en = 'ecaa8f0b-f864-4ec5-88c9-aa2a80f84bf3'\n",
    "apertium_rdf_eo_es = '50212a9b-515f-42bc-9ddc-346476d90ef6'\n",
    "apertium_rdf_eo_fr = '99551ef8-80be-4806-b174-5d6e35126574'\n",
    "apertium_rdf_es_an = '3a8b4757-e7fc-4265-b3db-f4c4e19a9b7b'\n",
    "apertium_rdf_es_ast = 'bbcea18f-21f1-4cb1-a8a9-d4d768045dc6'\n",
    "apertium_rdf_es_gl = '55e967f3-b25a-41e2-93fe-888faa5df615'\n",
    "apertium_rdf_es_pt = '3f37e37c-e621-4949-8006-545c04326305'\n",
    "apertium_rdf_es_ro = '12f596ac-0bd2-468c-bade-ceb99203e014'\n",
    "apertium_rdf_eu_en = '6442cd6a-3615-4a04-a290-ec6fe600ffe3'\n",
    "apertium_rdf_eu_es = '7998539c-f0dd-4146-9f19-913047b74656'\n",
    "apertium_rdf_fr_es = '09fafa60-6c58-4e88-adcb-3f3e97666999'\n",
    "apertium_rdf_fr_ca = '81a71f14-b666-4be0-8caf-9221fab1311a'\n",
    "apertium_rdf_oc_ca = 'd41b55f7-e4c8-477d-988f-74ec4300e149'\n",
    "apertium_rdf_oc_es = 'e960a210-492e-4451-beb8-8642e74b73f6'\n",
    "apertium_rdf_pt_ca = '09261452-6603-43d6-9c12-421051ad3ad9'\n",
    "apertium_rdf_pt_gl = 'd543aee3-80f5-4e52-950e-b54c3bcdacbb'\n",
    "iso_639_oasis = '705e51bc-d33d-4701-a955-27d28f858893'\n",
    "geodomainwn = '8245652d-03b0-4316-a0c4-728affcab97e'\n",
    "gwa_ili = '32c6958c-55ec-4e0d-ac97-e0d7acff9e0b'\n",
    "sli_galnet_rdf = '500cdc3e-3993-40a8-8299-2dd58cefba1a'\n",
    "getty_aat = '64fbbf47-5a6b-4681-8ba2-e588e6ba2938'\n",
    "iate = '9fcba3fa-d21b-4fe8-916e-ab06527b27f0'\n",
    "wordnet = '20968573-e642-4ef5-9d82-7684e02a1d47'\n",
    "wn_wiki_instances = 'b3f30198-2d8e-4379-a11f-639e3dce929b'\n",
    "prod_fibo_quickstart = '94baaaa3-69a1-426d-8456-d6e2c65a7c68'\n",
    "schemaorg_current_https = '439daae6-f513-4361-9218-5e85110a0080'\n",
    "asit = 'e92eac72-250d-4753-8dd4-709222f0d55f'\n",
    "drugbank_sample = '92e9a5aa-8bc5-419d-ad99-ca711ddaa4d4'\n",
    "pro_sars2 = '5c372643-2186-45b7-9bdd-2f4c4eb700ce'\n",
    "pro_sars2_python_convert = '73e98b83-4d90-46e4-938c-a68a16080b20'\n",
    "COVID_19 = 'b7432d66-faf6-4009-bd6c-baa8fb8d9cfd'\n",
    "COVID_19_Schema = '7aa7a495-ebfd-4ac6-8347-eafbfa2147df'\n",
    "cord19_akg = '21c48812-a61f-4f7c-bd37-26493541f736'\n",
    "Reuters_128 = '8484b3c8-6837-437f-8e5f-5e36cd18aa74'\n",
    "asit_data = '55d3bf89-e9a1-4860-8812-bd446252bfec'\n",
    "sources = '21661bf0-4dda-47ff-8184-e53025ff806f'\n",
    "emn = '26896c70-22dc-4cb6-8465-269d97b978ce'\n",
    "lemonwiktionary = '2fdfbd7b-90eb-447a-a0b1-75858da485dc'\n",
    "apertium_rdf_en_es = '2fa827d2-db71-4eba-a547-8befc75a4130'\n",
    "apertium_rdf_en_es = 'd65860db-3ab5-4913-b9e8-c46b1232464f'\n",
    "rss_500_nif_ner_corpus = '1f95174a-1cc3-4252-97e5-d8634bd3b297'\n",
    "dbpedia_abstract_corpus = 'b2c06747-44a6-4059-bf8a-6dc76c5eadab'\n",
    "linked_hypernyms = 'f7ed05e1-12dd-4f62-b335-9282239d2f86'\n",
    "galician_eurowordnet_lemon_lexicon_3_0 = 'ef6a37aa-f74c-41a3-a997-17b2e1269eab'\n",
    "SimpleEntries = 'a7ec9822-bc3b-4758-928f-887610a77e66'\n",
    "news_100_nif_ner_corpus = '669d05df-b120-4ef3-a2e1-3954a10d79ec'\n",
    "linked_hypernyms = '1da8aae3-3a03-42d2-a38e-1198f7745121'\n",
    "orkg_aa = '07ff5509-041c-4404-a46d-9c00d823ee46'\n",
    "dbpedia_2014 = 'e412dbcd-0fbf-4ea2-9132-f1404b905256'\n",
    "dbpedia_2014 = '853ac65c-053b-4b65-a0b7-13ee1eca9d4c'\n",
    "aikg = 'a36f7653-6549-4da9-82a4-15db8781211c'\n",
    "aikg_1 = '8ae51331-2bde-4740-8aae-14f51de11fd4'"
   ]
  },
  {
   "cell_type": "markdown",
   "id": "28f01bde",
   "metadata": {},
   "source": [
    "## Parameters"
   ]
  },
  {
   "cell_type": "code",
   "execution_count": 6,
   "id": "b40a13c7",
   "metadata": {},
   "outputs": [],
   "source": [
    "stoplist_not_remove = True\n",
    "stoplist_put_to_bottom = True\n",
    "stoplist_remove = True"
   ]
  },
  {
   "cell_type": "code",
   "execution_count": 7,
   "id": "c26b3c53",
   "metadata": {},
   "outputs": [],
   "source": [
    "json_object = Return_JSON.return_JSON(drugbank)"
   ]
  },
  {
   "cell_type": "code",
   "execution_count": 8,
   "id": "765cfafc",
   "metadata": {},
   "outputs": [
    {
     "data": {
      "text/plain": [
       "1408"
      ]
     },
     "execution_count": 8,
     "metadata": {},
     "output_type": "execute_result"
    }
   ],
   "source": [
    "len(json_object['akps'])"
   ]
  },
  {
   "cell_type": "code",
   "execution_count": 9,
   "id": "b1b83e56",
   "metadata": {},
   "outputs": [
    {
     "data": {
      "text/html": [
       "<div>\n",
       "<style scoped>\n",
       "    .dataframe tbody tr th:only-of-type {\n",
       "        vertical-align: middle;\n",
       "    }\n",
       "\n",
       "    .dataframe tbody tr th {\n",
       "        vertical-align: top;\n",
       "    }\n",
       "\n",
       "    .dataframe thead th {\n",
       "        text-align: right;\n",
       "    }\n",
       "</style>\n",
       "<table border=\"1\" class=\"dataframe\">\n",
       "  <thead>\n",
       "    <tr style=\"text-align: right;\">\n",
       "      <th></th>\n",
       "      <th>type</th>\n",
       "      <th>subType</th>\n",
       "      <th>datasetOfOrigin</th>\n",
       "      <th>ontologiesOfOrigin</th>\n",
       "      <th>summary_conf</th>\n",
       "      <th>frequency</th>\n",
       "      <th>numberOfInstances</th>\n",
       "      <th>cardinality1</th>\n",
       "      <th>cardinality2</th>\n",
       "      <th>cardinality3</th>\n",
       "      <th>...</th>\n",
       "      <th>cardinality6</th>\n",
       "      <th>predictedCardinalityDirect</th>\n",
       "      <th>predictedCardinalityInverse</th>\n",
       "      <th>id</th>\n",
       "      <th>subject.globalURL</th>\n",
       "      <th>predicate.globalURL</th>\n",
       "      <th>predicate.frequency</th>\n",
       "      <th>object.globalURL</th>\n",
       "      <th>object.frequency</th>\n",
       "      <th>subject.frequency</th>\n",
       "    </tr>\n",
       "  </thead>\n",
       "  <tbody>\n",
       "    <tr>\n",
       "      <th>0</th>\n",
       "      <td>Datatype AKP</td>\n",
       "      <td>internal</td>\n",
       "      <td>drugbank</td>\n",
       "      <td>[drugbank]</td>\n",
       "      <td>asd4drg5s-asg31-as85v-lmn2n-c4342se1</td>\n",
       "      <td>344004</td>\n",
       "      <td>344004</td>\n",
       "      <td>1</td>\n",
       "      <td>1</td>\n",
       "      <td>1</td>\n",
       "      <td>...</td>\n",
       "      <td>1</td>\n",
       "      <td>None</td>\n",
       "      <td>None</td>\n",
       "      <td>098dbec7fb6e253d81df9e138bac24ae</td>\n",
       "      <td>http://bio2rdf.org/drugbank_vocabulary:Resource</td>\n",
       "      <td>http://purl.org/dc/terms/identifier</td>\n",
       "      <td>421310</td>\n",
       "      <td>http://www.w3.org/2001/XMLSchema#string</td>\n",
       "      <td>1905809.0</td>\n",
       "      <td>NaN</td>\n",
       "    </tr>\n",
       "    <tr>\n",
       "      <th>1</th>\n",
       "      <td>Datatype AKP</td>\n",
       "      <td>internal</td>\n",
       "      <td>drugbank</td>\n",
       "      <td>[drugbank]</td>\n",
       "      <td>asd4drg5s-asg31-as85v-lmn2n-c4342se1</td>\n",
       "      <td>344004</td>\n",
       "      <td>344004</td>\n",
       "      <td>314260</td>\n",
       "      <td>114668</td>\n",
       "      <td>13343</td>\n",
       "      <td>...</td>\n",
       "      <td>1</td>\n",
       "      <td>None</td>\n",
       "      <td>None</td>\n",
       "      <td>6f506e4fd67e967483d743d883736f35</td>\n",
       "      <td>http://bio2rdf.org/drugbank_vocabulary:Resource</td>\n",
       "      <td>http://bio2rdf.org/bio2rdf_vocabulary:namespace</td>\n",
       "      <td>421310</td>\n",
       "      <td>http://www.w3.org/2001/XMLSchema#string</td>\n",
       "      <td>1905809.0</td>\n",
       "      <td>NaN</td>\n",
       "    </tr>\n",
       "    <tr>\n",
       "      <th>2</th>\n",
       "      <td>Datatype AKP</td>\n",
       "      <td>internal</td>\n",
       "      <td>drugbank</td>\n",
       "      <td>[drugbank]</td>\n",
       "      <td>asd4drg5s-asg31-as85v-lmn2n-c4342se1</td>\n",
       "      <td>344004</td>\n",
       "      <td>344004</td>\n",
       "      <td>2</td>\n",
       "      <td>1</td>\n",
       "      <td>1</td>\n",
       "      <td>...</td>\n",
       "      <td>1</td>\n",
       "      <td>None</td>\n",
       "      <td>None</td>\n",
       "      <td>712091a265811a1be8739daffb55c399</td>\n",
       "      <td>http://bio2rdf.org/drugbank_vocabulary:Resource</td>\n",
       "      <td>http://bio2rdf.org/bio2rdf_vocabulary:identifier</td>\n",
       "      <td>421307</td>\n",
       "      <td>http://www.w3.org/2001/XMLSchema#string</td>\n",
       "      <td>1905809.0</td>\n",
       "      <td>NaN</td>\n",
       "    </tr>\n",
       "    <tr>\n",
       "      <th>3</th>\n",
       "      <td>Datatype AKP</td>\n",
       "      <td>internal</td>\n",
       "      <td>drugbank</td>\n",
       "      <td>[drugbank]</td>\n",
       "      <td>asd4drg5s-asg31-as85v-lmn2n-c4342se1</td>\n",
       "      <td>344004</td>\n",
       "      <td>344004</td>\n",
       "      <td>1</td>\n",
       "      <td>1</td>\n",
       "      <td>1</td>\n",
       "      <td>...</td>\n",
       "      <td>1</td>\n",
       "      <td>None</td>\n",
       "      <td>None</td>\n",
       "      <td>dc0a57aa74f4aa146b7fd97298fa7620</td>\n",
       "      <td>http://bio2rdf.org/drugbank_vocabulary:Resource</td>\n",
       "      <td>http://bio2rdf.org/bio2rdf_vocabulary:uri</td>\n",
       "      <td>421310</td>\n",
       "      <td>http://www.w3.org/2001/XMLSchema#string</td>\n",
       "      <td>1905809.0</td>\n",
       "      <td>NaN</td>\n",
       "    </tr>\n",
       "    <tr>\n",
       "      <th>4</th>\n",
       "      <td>Datatype AKP</td>\n",
       "      <td>internal</td>\n",
       "      <td>drugbank</td>\n",
       "      <td>[drugbank]</td>\n",
       "      <td>asd4drg5s-asg31-as85v-lmn2n-c4342se1</td>\n",
       "      <td>343948</td>\n",
       "      <td>343948</td>\n",
       "      <td>1</td>\n",
       "      <td>1</td>\n",
       "      <td>1</td>\n",
       "      <td>...</td>\n",
       "      <td>1</td>\n",
       "      <td>None</td>\n",
       "      <td>None</td>\n",
       "      <td>4635dc2e1fab18d88835ca2e946951c6</td>\n",
       "      <td>http://bio2rdf.org/drugbank_vocabulary:Resource</td>\n",
       "      <td>http://www.w3.org/2000/01/rdf-schema#label</td>\n",
       "      <td>345665</td>\n",
       "      <td>http://www.w3.org/2000/01/rdf-schema#Literal</td>\n",
       "      <td>707765.0</td>\n",
       "      <td>NaN</td>\n",
       "    </tr>\n",
       "  </tbody>\n",
       "</table>\n",
       "<p>5 rows × 22 columns</p>\n",
       "</div>"
      ],
      "text/plain": [
       "           type   subType datasetOfOrigin ontologiesOfOrigin  \\\n",
       "0  Datatype AKP  internal        drugbank         [drugbank]   \n",
       "1  Datatype AKP  internal        drugbank         [drugbank]   \n",
       "2  Datatype AKP  internal        drugbank         [drugbank]   \n",
       "3  Datatype AKP  internal        drugbank         [drugbank]   \n",
       "4  Datatype AKP  internal        drugbank         [drugbank]   \n",
       "\n",
       "                           summary_conf  frequency  numberOfInstances  \\\n",
       "0  asd4drg5s-asg31-as85v-lmn2n-c4342se1     344004             344004   \n",
       "1  asd4drg5s-asg31-as85v-lmn2n-c4342se1     344004             344004   \n",
       "2  asd4drg5s-asg31-as85v-lmn2n-c4342se1     344004             344004   \n",
       "3  asd4drg5s-asg31-as85v-lmn2n-c4342se1     344004             344004   \n",
       "4  asd4drg5s-asg31-as85v-lmn2n-c4342se1     343948             343948   \n",
       "\n",
       "   cardinality1  cardinality2  cardinality3  ...  cardinality6  \\\n",
       "0             1             1             1  ...             1   \n",
       "1        314260        114668         13343  ...             1   \n",
       "2             2             1             1  ...             1   \n",
       "3             1             1             1  ...             1   \n",
       "4             1             1             1  ...             1   \n",
       "\n",
       "   predictedCardinalityDirect  predictedCardinalityInverse  \\\n",
       "0                        None                         None   \n",
       "1                        None                         None   \n",
       "2                        None                         None   \n",
       "3                        None                         None   \n",
       "4                        None                         None   \n",
       "\n",
       "                                 id  \\\n",
       "0  098dbec7fb6e253d81df9e138bac24ae   \n",
       "1  6f506e4fd67e967483d743d883736f35   \n",
       "2  712091a265811a1be8739daffb55c399   \n",
       "3  dc0a57aa74f4aa146b7fd97298fa7620   \n",
       "4  4635dc2e1fab18d88835ca2e946951c6   \n",
       "\n",
       "                                 subject.globalURL  \\\n",
       "0  http://bio2rdf.org/drugbank_vocabulary:Resource   \n",
       "1  http://bio2rdf.org/drugbank_vocabulary:Resource   \n",
       "2  http://bio2rdf.org/drugbank_vocabulary:Resource   \n",
       "3  http://bio2rdf.org/drugbank_vocabulary:Resource   \n",
       "4  http://bio2rdf.org/drugbank_vocabulary:Resource   \n",
       "\n",
       "                                predicate.globalURL predicate.frequency  \\\n",
       "0               http://purl.org/dc/terms/identifier              421310   \n",
       "1   http://bio2rdf.org/bio2rdf_vocabulary:namespace              421310   \n",
       "2  http://bio2rdf.org/bio2rdf_vocabulary:identifier              421307   \n",
       "3         http://bio2rdf.org/bio2rdf_vocabulary:uri              421310   \n",
       "4        http://www.w3.org/2000/01/rdf-schema#label              345665   \n",
       "\n",
       "                               object.globalURL  object.frequency  \\\n",
       "0       http://www.w3.org/2001/XMLSchema#string         1905809.0   \n",
       "1       http://www.w3.org/2001/XMLSchema#string         1905809.0   \n",
       "2       http://www.w3.org/2001/XMLSchema#string         1905809.0   \n",
       "3       http://www.w3.org/2001/XMLSchema#string         1905809.0   \n",
       "4  http://www.w3.org/2000/01/rdf-schema#Literal          707765.0   \n",
       "\n",
       "  subject.frequency  \n",
       "0               NaN  \n",
       "1               NaN  \n",
       "2               NaN  \n",
       "3               NaN  \n",
       "4               NaN  \n",
       "\n",
       "[5 rows x 22 columns]"
      ]
     },
     "execution_count": 9,
     "metadata": {},
     "output_type": "execute_result"
    }
   ],
   "source": [
    "df_nested_list = pd.json_normalize(json_object, record_path =['akps'])\n",
    "df_nested_list.head(5)"
   ]
  },
  {
   "cell_type": "markdown",
   "id": "26b904c7",
   "metadata": {},
   "source": [
    "## For each KG, list out the uninteresting entities that have been used to filter the results"
   ]
  },
  {
   "cell_type": "code",
   "execution_count": 10,
   "id": "22cc5c7d",
   "metadata": {},
   "outputs": [],
   "source": [
    "#stop_list for KG processing\n",
    "values_lower = []"
   ]
  },
  {
   "cell_type": "code",
   "execution_count": 11,
   "id": "8c184942",
   "metadata": {},
   "outputs": [],
   "source": [
    "df_nested_list = df_nested_list.apply(lambda x: x.astype(str).str.lower())\n",
    "\n",
    "row, col = df_nested_list.shape\n",
    "\n",
    "for i in range(0,row,1):\n",
    "    label_predict_subject = LabelPredict(df_nested_list['subject.globalURL'][i])\n",
    "    label_predict_predicate = LabelPredict(df_nested_list['predicate.globalURL'][i])\n",
    "    label_predict_object = LabelPredict(df_nested_list['object.globalURL'][i])\n",
    "    \n",
    "    if label_predict_subject == 0 and df_nested_list['subject.globalURL'][i] not in values_lower:\n",
    "            values_lower.append(df_nested_list['subject.globalURL'][i])\n"
   ]
  },
  {
   "cell_type": "markdown",
   "id": "94d7f9f5",
   "metadata": {},
   "source": [
    "## Top 10 patterns before post-processing"
   ]
  },
  {
   "cell_type": "code",
   "execution_count": 12,
   "id": "25f6e65c",
   "metadata": {},
   "outputs": [
    {
     "name": "stdout",
     "output_type": "stream",
     "text": [
      "http://bio2rdf.org/drugbank_vocabulary:resource - nan\n",
      "http://purl.org/dc/terms/identifier - 421310\n",
      "http://www.w3.org/2001/xmlschema#string - 1905809.0\n",
      "\n",
      "\n",
      "http://bio2rdf.org/drugbank_vocabulary:resource - nan\n",
      "http://bio2rdf.org/bio2rdf_vocabulary:namespace - 421310\n",
      "http://www.w3.org/2001/xmlschema#string - 1905809.0\n",
      "\n",
      "\n",
      "http://bio2rdf.org/drugbank_vocabulary:resource - nan\n",
      "http://bio2rdf.org/bio2rdf_vocabulary:identifier - 421307\n",
      "http://www.w3.org/2001/xmlschema#string - 1905809.0\n",
      "\n",
      "\n",
      "http://bio2rdf.org/drugbank_vocabulary:resource - nan\n",
      "http://bio2rdf.org/bio2rdf_vocabulary:uri - 421310\n",
      "http://www.w3.org/2001/xmlschema#string - 1905809.0\n",
      "\n",
      "\n",
      "http://bio2rdf.org/drugbank_vocabulary:resource - nan\n",
      "http://www.w3.org/2000/01/rdf-schema#label - 345665\n",
      "http://www.w3.org/2000/01/rdf-schema#literal - 707765.0\n",
      "\n",
      "\n",
      "http://bio2rdf.org/drugbank_vocabulary:resource - nan\n",
      "http://purl.org/dc/terms/title - 345628\n",
      "http://www.w3.org/2000/01/rdf-schema#literal - 707765.0\n",
      "\n",
      "\n",
      "http://bio2rdf.org/drugbank_vocabulary:resource - nan\n",
      "http://bio2rdf.org/drugbank_vocabulary:drug-classification-category - 258116\n",
      "http://bio2rdf.org/drugbank_vocabulary:drug-classification-category - nan\n",
      "\n",
      "\n",
      "http://bio2rdf.org/drugbank_vocabulary:resource - nan\n",
      "http://bio2rdf.org/drugbank_vocabulary:drug-classification-category - 258116\n",
      "http://bio2rdf.org/drugbank_vocabulary:resource - nan\n",
      "\n",
      "\n",
      "http://bio2rdf.org/drugbank_vocabulary:drug - 8054.0\n",
      "http://bio2rdf.org/drugbank_vocabulary:drug-classification-category - 258116\n",
      "http://bio2rdf.org/drugbank_vocabulary:resource - nan\n",
      "\n",
      "\n",
      "http://bio2rdf.org/drugbank_vocabulary:drug - 8054.0\n",
      "http://bio2rdf.org/drugbank_vocabulary:drug-classification-category - 258116\n",
      "http://bio2rdf.org/drugbank_vocabulary:drug-classification-category - nan\n",
      "\n",
      "\n"
     ]
    }
   ],
   "source": [
    "if stoplist_not_remove == True:\n",
    "\n",
    "    for i in range(0,10,1):\n",
    "        try:\n",
    "            print(str(df_nested_list['subject.globalURL'][i])+\" - \"+str(df_nested_list['subject.frequency'][i]))\n",
    "        except:\n",
    "            pass\n",
    "        try:\n",
    "            print(str(df_nested_list['predicate.globalURL'][i])+\" - \"+str(df_nested_list['predicate.frequency'][i]))\n",
    "        except:\n",
    "            pass\n",
    "        try:\n",
    "            print(str(df_nested_list['object.globalURL'][i])+\" - \"+str(df_nested_list['object.frequency'][i]))\n",
    "        except:\n",
    "            pass\n",
    "        print(\"\\n\")"
   ]
  },
  {
   "cell_type": "markdown",
   "id": "c02eb322",
   "metadata": {},
   "source": [
    "## Top 10 patterns after post-processing"
   ]
  },
  {
   "cell_type": "code",
   "execution_count": 13,
   "id": "4bf81251",
   "metadata": {},
   "outputs": [],
   "source": [
    "def filter_rows_by_values(df, col, values):\n",
    "    return df[~df[col].isin(values)]"
   ]
  },
  {
   "cell_type": "code",
   "execution_count": 14,
   "id": "9d6200cd",
   "metadata": {},
   "outputs": [],
   "source": [
    "new_df = df_nested_list[['subject.globalURL','subject.frequency','predicate.globalURL','predicate.frequency','object.globalURL','object.frequency']]\n",
    "new_df = new_df.apply(lambda x: x.astype(str).str.lower())"
   ]
  },
  {
   "cell_type": "code",
   "execution_count": 15,
   "id": "76e1fb0c",
   "metadata": {},
   "outputs": [],
   "source": [
    "new_df = filter_rows_by_values(new_df, \"predicate.globalURL\", values_lower)\n",
    "new_df = filter_rows_by_values(new_df, \"object.globalURL\", values_lower)"
   ]
  },
  {
   "cell_type": "code",
   "execution_count": 16,
   "id": "434c657d",
   "metadata": {},
   "outputs": [
    {
     "data": {
      "text/plain": [
       "(92, 6)"
      ]
     },
     "execution_count": 16,
     "metadata": {},
     "output_type": "execute_result"
    }
   ],
   "source": [
    "new_df_without_nan = new_df.dropna()\n",
    "new_df_without_nan = new_df_without_nan[new_df_without_nan['subject.frequency'].astype(str) != 'nan']\n",
    "new_df_without_nan = new_df_without_nan[new_df_without_nan['predicate.frequency'].astype(str) != 'nan']\n",
    "new_df_without_nan = new_df_without_nan[new_df_without_nan['object.frequency'].astype(str) != 'nan']\n",
    "new_df_without_nan.shape"
   ]
  },
  {
   "cell_type": "code",
   "execution_count": 17,
   "id": "b64bbc23",
   "metadata": {},
   "outputs": [],
   "source": [
    "new_df_without_nan = new_df_without_nan.reset_index(drop=True)"
   ]
  },
  {
   "cell_type": "markdown",
   "id": "6b7cca4c",
   "metadata": {},
   "source": [
    "## Stoplist remove"
   ]
  },
  {
   "cell_type": "code",
   "execution_count": 18,
   "id": "ee30d20c",
   "metadata": {},
   "outputs": [
    {
     "name": "stdout",
     "output_type": "stream",
     "text": [
      "http://bio2rdf.org/drugbank_vocabulary:drug - 8054.0\n",
      "http://bio2rdf.org/drugbank_vocabulary:ddi-interactor-in - 76250\n",
      "http://bio2rdf.org/drugbank_vocabulary:drug-drug-interaction - 38125.0\n",
      "\n",
      "\n",
      "http://bio2rdf.org/drugbank_vocabulary:drug-drug-interaction - 38125.0\n",
      "http://purl.org/dc/terms/identifier - 421310\n",
      "http://www.w3.org/2001/xmlschema#string - 1905809.0\n",
      "\n",
      "\n",
      "http://bio2rdf.org/drugbank_vocabulary:drug-drug-interaction - 38125.0\n",
      "http://purl.org/dc/terms/title - 345628\n",
      "http://www.w3.org/2000/01/rdf-schema#literal - 707765.0\n",
      "\n",
      "\n",
      "http://bio2rdf.org/drugbank_vocabulary:drug-drug-interaction - 38125.0\n",
      "http://bio2rdf.org/bio2rdf_vocabulary:uri - 421310\n",
      "http://www.w3.org/2001/xmlschema#string - 1905809.0\n",
      "\n",
      "\n",
      "http://bio2rdf.org/drugbank_vocabulary:drug-drug-interaction - 38125.0\n",
      "http://www.w3.org/2000/01/rdf-schema#label - 345665\n",
      "http://www.w3.org/2000/01/rdf-schema#literal - 707765.0\n",
      "\n",
      "\n",
      "http://bio2rdf.org/drugbank_vocabulary:drug-drug-interaction - 38125.0\n",
      "http://bio2rdf.org/bio2rdf_vocabulary:namespace - 421310\n",
      "http://www.w3.org/2001/xmlschema#string - 1905809.0\n",
      "\n",
      "\n",
      "http://bio2rdf.org/drugbank_vocabulary:drug-drug-interaction - 38125.0\n",
      "http://bio2rdf.org/bio2rdf_vocabulary:identifier - 421307\n",
      "http://www.w3.org/2001/xmlschema#string - 1905809.0\n",
      "\n",
      "\n",
      "http://bio2rdf.org/drugbank_vocabulary:drug - 8054.0\n",
      "http://bio2rdf.org/drugbank_vocabulary:mixture - 36074\n",
      "http://bio2rdf.org/drugbank_vocabulary:mixture - 26619.0\n",
      "\n",
      "\n",
      "http://bio2rdf.org/drugbank_vocabulary:mixture - 26619.0\n",
      "http://bio2rdf.org/drugbank_vocabulary:ingredients - 27487\n",
      "http://www.w3.org/2001/xmlschema#string - 1905809.0\n",
      "\n",
      "\n",
      "http://bio2rdf.org/drugbank_vocabulary:mixture - 26619.0\n",
      "http://bio2rdf.org/bio2rdf_vocabulary:identifier - 421307\n",
      "http://www.w3.org/2001/xmlschema#string - 1905809.0\n",
      "\n",
      "\n"
     ]
    }
   ],
   "source": [
    "if stoplist_remove == True:\n",
    "    \n",
    "    for j in range(0,10,1):\n",
    "        try:\n",
    "            print(str(new_df_without_nan['subject.globalURL'][j])+\" - \"+str(new_df_without_nan['subject.frequency'][j]))\n",
    "        except:\n",
    "            pass\n",
    "        try:\n",
    "            print(str(new_df_without_nan['predicate.globalURL'][j])+\" - \"+str(new_df_without_nan['predicate.frequency'][j]))\n",
    "        except:\n",
    "            pass\n",
    "        try:\n",
    "            print(str(new_df_without_nan['object.globalURL'][j])+\" - \"+str(new_df_without_nan['object.frequency'][j]))\n",
    "        except:\n",
    "            pass\n",
    "        print(\"\\n\")"
   ]
  },
  {
   "cell_type": "markdown",
   "id": "8e94cb92",
   "metadata": {},
   "source": [
    "## Stoplist put to bottom"
   ]
  },
  {
   "cell_type": "code",
   "execution_count": 19,
   "id": "f19b1bbd",
   "metadata": {},
   "outputs": [
    {
     "data": {
      "text/plain": [
       "True"
      ]
     },
     "execution_count": 19,
     "metadata": {},
     "output_type": "execute_result"
    }
   ],
   "source": [
    "stoplist_put_to_bottom == True"
   ]
  },
  {
   "cell_type": "code",
   "execution_count": 20,
   "id": "4b74189e",
   "metadata": {},
   "outputs": [
    {
     "name": "stdout",
     "output_type": "stream",
     "text": [
      "http://bio2rdf.org/drugbank_vocabulary:drug - 8054.0\n",
      "http://bio2rdf.org/drugbank_vocabulary:ddi-interactor-in - 76250\n",
      "http://bio2rdf.org/drugbank_vocabulary:drug-drug-interaction - 38125.0\n",
      "\n",
      "\n",
      "http://bio2rdf.org/drugbank_vocabulary:drug-drug-interaction - 38125.0\n",
      "http://purl.org/dc/terms/identifier - 421310\n",
      "http://www.w3.org/2001/xmlschema#string - 1905809.0\n",
      "\n",
      "\n",
      "http://bio2rdf.org/drugbank_vocabulary:drug-drug-interaction - 38125.0\n",
      "http://purl.org/dc/terms/title - 345628\n",
      "http://www.w3.org/2000/01/rdf-schema#literal - 707765.0\n",
      "\n",
      "\n",
      "http://bio2rdf.org/drugbank_vocabulary:drug-drug-interaction - 38125.0\n",
      "http://bio2rdf.org/bio2rdf_vocabulary:uri - 421310\n",
      "http://www.w3.org/2001/xmlschema#string - 1905809.0\n",
      "\n",
      "\n",
      "http://bio2rdf.org/drugbank_vocabulary:drug-drug-interaction - 38125.0\n",
      "http://www.w3.org/2000/01/rdf-schema#label - 345665\n",
      "http://www.w3.org/2000/01/rdf-schema#literal - 707765.0\n",
      "\n",
      "\n",
      "http://bio2rdf.org/drugbank_vocabulary:drug-drug-interaction - 38125.0\n",
      "http://bio2rdf.org/bio2rdf_vocabulary:namespace - 421310\n",
      "http://www.w3.org/2001/xmlschema#string - 1905809.0\n",
      "\n",
      "\n",
      "http://bio2rdf.org/drugbank_vocabulary:drug-drug-interaction - 38125.0\n",
      "http://bio2rdf.org/bio2rdf_vocabulary:identifier - 421307\n",
      "http://www.w3.org/2001/xmlschema#string - 1905809.0\n",
      "\n",
      "\n",
      "http://bio2rdf.org/drugbank_vocabulary:drug - 8054.0\n",
      "http://bio2rdf.org/drugbank_vocabulary:mixture - 36074\n",
      "http://bio2rdf.org/drugbank_vocabulary:mixture - 26619.0\n",
      "\n",
      "\n",
      "http://bio2rdf.org/drugbank_vocabulary:mixture - 26619.0\n",
      "http://bio2rdf.org/drugbank_vocabulary:ingredients - 27487\n",
      "http://www.w3.org/2001/xmlschema#string - 1905809.0\n",
      "\n",
      "\n",
      "http://bio2rdf.org/drugbank_vocabulary:mixture - 26619.0\n",
      "http://bio2rdf.org/bio2rdf_vocabulary:identifier - 421307\n",
      "http://www.w3.org/2001/xmlschema#string - 1905809.0\n",
      "\n",
      "\n",
      "http://bio2rdf.org/drugbank_vocabulary:resource - nan\n",
      "http://purl.org/dc/terms/identifier - 421310\n",
      "http://www.w3.org/2001/xmlschema#string - 1905809.0\n",
      "\n",
      "\n",
      "http://bio2rdf.org/drugbank_vocabulary:resource - nan\n",
      "http://purl.org/dc/terms/identifier - 421310\n",
      "http://www.w3.org/2001/xmlschema#string - 1905809.0\n",
      "\n",
      "\n",
      "http://bio2rdf.org/drugbank_vocabulary:resource - nan\n",
      "http://bio2rdf.org/bio2rdf_vocabulary:namespace - 421310\n",
      "http://www.w3.org/2001/xmlschema#string - 1905809.0\n",
      "\n",
      "\n",
      "http://bio2rdf.org/drugbank_vocabulary:resource - nan\n",
      "http://bio2rdf.org/bio2rdf_vocabulary:identifier - 421307\n",
      "http://www.w3.org/2001/xmlschema#string - 1905809.0\n",
      "\n",
      "\n",
      "http://bio2rdf.org/drugbank_vocabulary:resource - nan\n",
      "http://bio2rdf.org/bio2rdf_vocabulary:uri - 421310\n",
      "http://www.w3.org/2001/xmlschema#string - 1905809.0\n",
      "\n",
      "\n",
      "http://bio2rdf.org/drugbank_vocabulary:resource - nan\n",
      "http://www.w3.org/2000/01/rdf-schema#label - 345665\n",
      "http://www.w3.org/2000/01/rdf-schema#literal - 707765.0\n",
      "\n",
      "\n",
      "http://bio2rdf.org/drugbank_vocabulary:resource - nan\n",
      "http://www.w3.org/2000/01/rdf-schema#label - 345665\n",
      "http://www.w3.org/2000/01/rdf-schema#literal - 707765.0\n",
      "\n",
      "\n"
     ]
    }
   ],
   "source": [
    "if stoplist_put_to_bottom == True:\n",
    "\n",
    "#stoplist_remove\n",
    "\n",
    "    for j in range(0,10,1):\n",
    "        try:\n",
    "            print(str(new_df_without_nan['subject.globalURL'][j])+\" - \"+str(new_df_without_nan['subject.frequency'][j]))\n",
    "        except:\n",
    "            pass\n",
    "        try:\n",
    "            print(str(new_df_without_nan['predicate.globalURL'][j])+\" - \"+str(new_df_without_nan['predicate.frequency'][j]))\n",
    "        except:\n",
    "            pass\n",
    "        try:\n",
    "            print(str(new_df_without_nan['object.globalURL'][j])+\" - \"+str(new_df_without_nan['object.frequency'][j]))\n",
    "        except:\n",
    "            pass\n",
    "        print(\"\\n\")\n",
    "    \n",
    "# stoplist_put_to_bottom \n",
    "\n",
    "    for i in range(0,len(values_lower),1):\n",
    "        row_sub,col_sub = df_nested_list[df_nested_list['subject.globalURL'].str.contains(values_lower[i])==True].shape\n",
    "        row_pre,col_pre = df_nested_list[df_nested_list['predicate.globalURL'].str.contains(values_lower[i])==True].shape\n",
    "        row_obj,col_obj = df_nested_list[df_nested_list['object.globalURL'].str.contains(values_lower[i])==True].shape\n",
    "\n",
    "\n",
    "\n",
    "        if row_sub>0:\n",
    "            #print(values_lower[i])\n",
    "            print(str(df_nested_list['subject.globalURL'][i])+\" - \"+str(df_nested_list['subject.frequency'][i]))\n",
    "            print(str(df_nested_list['predicate.globalURL'][i])+\" - \"+str(df_nested_list['predicate.frequency'][i]))\n",
    "            print(str(df_nested_list['object.globalURL'][i])+\" - \"+str(df_nested_list['object.frequency'][i]))\n",
    "            print(\"\\n\")\n",
    "        if row_pre>0:\n",
    "            print(str(df_nested_list['subject.globalURL'][i])+\" - \"+str(df_nested_list['subject.frequency'][i]))\n",
    "            print(str(df_nested_list['predicate.globalURL'][i])+\" - \"+str(df_nested_list['predicate.frequency'][i]))\n",
    "            print(str(df_nested_list['object.globalURL'][i])+\" - \"+str(df_nested_list['object.frequency'][i]))\n",
    "            print(\"\\n\")\n",
    "        if row_obj>0:\n",
    "            print(str(df_nested_list['subject.globalURL'][i])+\" - \"+str(df_nested_list['subject.frequency'][i]))\n",
    "            print(str(df_nested_list['predicate.globalURL'][i])+\" - \"+str(df_nested_list['predicate.frequency'][i]))\n",
    "            print(str(df_nested_list['object.globalURL'][i])+\" - \"+str(df_nested_list['object.frequency'][i]))\n",
    "            print(\"\\n\")\n"
   ]
  },
  {
   "cell_type": "markdown",
   "id": "523a5ffa",
   "metadata": {},
   "source": [
    "## Frequency count subject, predicate and object (after post-processing)"
   ]
  },
  {
   "cell_type": "code",
   "execution_count": 21,
   "id": "a656f9a0",
   "metadata": {},
   "outputs": [
    {
     "data": {
      "text/plain": [
       "http://bio2rdf.org/drugbank_vocabulary:target            24\n",
       "http://bio2rdf.org/drugbank_vocabulary:drug              18\n",
       "http://bio2rdf.org/drugbank_vocabulary:pharmaceutical     8\n",
       "http://bio2rdf.org/drugbank_vocabulary:mixture            8\n",
       "http://bio2rdf.org/drugbank_vocabulary:dosage             8\n",
       "Name: subject.globalURL, dtype: int64"
      ]
     },
     "execution_count": 21,
     "metadata": {},
     "output_type": "execute_result"
    }
   ],
   "source": [
    "new_df_without_nan['subject.globalURL'].value_counts()[:5]"
   ]
  },
  {
   "cell_type": "code",
   "execution_count": 22,
   "id": "c905f643",
   "metadata": {},
   "outputs": [
    {
     "data": {
      "text/plain": [
       "http://www.w3.org/2000/01/rdf-schema#label          9\n",
       "http://purl.org/dc/terms/title                      9\n",
       "http://purl.org/dc/terms/identifier                 9\n",
       "http://bio2rdf.org/bio2rdf_vocabulary:uri           9\n",
       "http://bio2rdf.org/bio2rdf_vocabulary:identifier    9\n",
       "Name: predicate.globalURL, dtype: int64"
      ]
     },
     "execution_count": 22,
     "metadata": {},
     "output_type": "execute_result"
    }
   ],
   "source": [
    "new_df_without_nan['predicate.globalURL'].value_counts()[:5]"
   ]
  },
  {
   "cell_type": "code",
   "execution_count": 23,
   "id": "21c7ee3d",
   "metadata": {},
   "outputs": [
    {
     "data": {
      "text/plain": [
       "http://www.w3.org/2001/xmlschema#string          53\n",
       "http://www.w3.org/2000/01/rdf-schema#literal     19\n",
       "http://bio2rdf.org/drugbank_vocabulary:target     4\n",
       "http://www.w3.org/2001/xmlschema#float            3\n",
       "http://www.w3.org/2001/xmlschema#integer          2\n",
       "Name: object.globalURL, dtype: int64"
      ]
     },
     "execution_count": 23,
     "metadata": {},
     "output_type": "execute_result"
    }
   ],
   "source": [
    "new_df_without_nan['object.globalURL'].value_counts()[:5]"
   ]
  },
  {
   "cell_type": "markdown",
   "id": "cf61cdda",
   "metadata": {},
   "source": [
    "## Plot"
   ]
  },
  {
   "cell_type": "code",
   "execution_count": 24,
   "id": "f0beb2ef",
   "metadata": {},
   "outputs": [
    {
     "data": {
      "image/png": "[encoded data removed]",
      "text/plain": [
       "<Figure size 432x288 with 1 Axes>"
      ]
     },
     "metadata": {
      "needs_background": "light"
     },
     "output_type": "display_data"
    }
   ],
   "source": [
    "new_df['subject.globalURL'].value_counts()[:20]\n",
    "plot = new_df['subject.globalURL'].value_counts()[:10].plot(kind='barh')"
   ]
  },
  {
   "cell_type": "code",
   "execution_count": 25,
   "id": "dae148b6",
   "metadata": {},
   "outputs": [
    {
     "data": {
      "text/plain": [
       "<AxesSubplot:>"
      ]
     },
     "execution_count": 25,
     "metadata": {},
     "output_type": "execute_result"
    },
    {
     "data": {
      "image/png": "[encoded data removed]",
      "text/plain": [
       "<Figure size 432x288 with 1 Axes>"
      ]
     },
     "metadata": {
      "needs_background": "light"
     },
     "output_type": "display_data"
    }
   ],
   "source": [
    "new_df['predicate.globalURL'].value_counts()[:20]\n",
    "new_df['predicate.globalURL'].value_counts()[:10].plot(kind='barh')"
   ]
  },
  {
   "cell_type": "code",
   "execution_count": 26,
   "id": "154e5556",
   "metadata": {},
   "outputs": [
    {
     "data": {
      "text/plain": [
       "<AxesSubplot:>"
      ]
     },
     "execution_count": 26,
     "metadata": {},
     "output_type": "execute_result"
    },
    {
     "data": {
      "image/png": "[encoded data removed]",
      "text/plain": [
       "<Figure size 432x288 with 1 Axes>"
      ]
     },
     "metadata": {
      "needs_background": "light"
     },
     "output_type": "display_data"
    }
   ],
   "source": [
    "new_df['object.globalURL'].value_counts()[:20]\n",
    "new_df['object.globalURL'].value_counts()[:10].plot(kind='barh')"
   ]
  }
 ],
 "metadata": {
  "kernelspec": {
   "display_name": "Python 3",
   "language": "python",
   "name": "python3"
  },
  "language_info": {
   "codemirror_mode": {
    "name": "ipython",
    "version": 3
   },
   "file_extension": ".py",
   "mimetype": "text/x-python",
   "name": "python",
   "nbconvert_exporter": "python",
   "pygments_lexer": "ipython3",
   "version": "3.8.8"
  }
 },
 "nbformat": 4,
 "nbformat_minor": 5
}
